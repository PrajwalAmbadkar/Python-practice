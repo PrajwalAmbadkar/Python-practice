{
 "cells": [
  {
   "cell_type": "code",
   "execution_count": 8,
   "id": "0323465a",
   "metadata": {},
   "outputs": [
    {
     "name": "stdout",
     "output_type": "stream",
     "text": [
      "65\n",
      "97\n",
      "90\n",
      "122\n"
     ]
    }
   ],
   "source": [
    "print (ord(\"A\"))  \n",
    "print (ord(\"a\"))  \n",
    "print (ord(\"Z\"))  \n",
    "print (ord(\"z\"))"
   ]
  },
  {
   "cell_type": "code",
   "execution_count": 11,
   "id": "dd07229c",
   "metadata": {},
   "outputs": [
    {
     "name": "stdout",
     "output_type": "stream",
     "text": [
      "48\n",
      "57\n",
      "32\n",
      "10\n",
      "9\n"
     ]
    }
   ],
   "source": [
    "print (ord(\"0\"))  \n",
    "print (ord(\"9\"))  \n",
    "print (ord(\" \"))  \n",
    "print (ord(\"\\n\"))\n",
    "print (ord(\"\\t\"))"
   ]
  },
  {
   "cell_type": "code",
   "execution_count": 13,
   "id": "fb2e73ff",
   "metadata": {},
   "outputs": [
    {
     "name": "stdout",
     "output_type": "stream",
     "text": [
      "A\n",
      "C\n",
      "2\n",
      "c\n"
     ]
    }
   ],
   "source": [
    "print (chr(65))  \n",
    "print (chr(67))  \n",
    "print (chr(50))  \n",
    "print (chr(99))"
   ]
  },
  {
   "cell_type": "code",
   "execution_count": null,
   "id": "7d061f4e",
   "metadata": {},
   "outputs": [],
   "source": []
  }
 ],
 "metadata": {
  "kernelspec": {
   "display_name": "Python 3 (ipykernel)",
   "language": "python",
   "name": "python3"
  },
  "language_info": {
   "codemirror_mode": {
    "name": "ipython",
    "version": 3
   },
   "file_extension": ".py",
   "mimetype": "text/x-python",
   "name": "python",
   "nbconvert_exporter": "python",
   "pygments_lexer": "ipython3",
   "version": "3.11.4"
  }
 },
 "nbformat": 4,
 "nbformat_minor": 5
}
