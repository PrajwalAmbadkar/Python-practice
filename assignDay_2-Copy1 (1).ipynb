{
 "cells": [
  {
   "cell_type": "code",
   "execution_count": 35,
   "id": "9c52ca29",
   "metadata": {},
   "outputs": [
    {
     "name": "stdout",
     "output_type": "stream",
     "text": [
      "Year is leap year\n"
     ]
    }
   ],
   "source": [
    "a=2000\n",
    "\n",
    "if a% 4==0 or a% 400==0 or a%100 !=0:\n",
    "    print (\"Year is leap year\")\n",
    "else :\n",
    "    print(\"Year is not Year Year\")"
   ]
  },
  {
   "cell_type": "code",
   "execution_count": 25,
   "id": "a927e216",
   "metadata": {},
   "outputs": [
    {
     "name": "stdout",
     "output_type": "stream",
     "text": [
      "true\n",
      "true\n",
      "True\n",
      "True\n",
      "False\n"
     ]
    }
   ],
   "source": [
    "x=2 ;y=5 ; z =0\n",
    "\n",
    "if x==2:\n",
    "    print(\"true\")\n",
    "    \n",
    "if x != 5:\n",
    "    print(\"true\")\n",
    "\n",
    "if x != 5 & y >= 5:\n",
    "    print(\"True\")\n",
    "    \n",
    "if z != 0 | x == 2:\n",
    "    print(\"True\")\n",
    "    \n",
    "if not(y < 10):\n",
    "    print(\"True\")\n",
    "else:\n",
    "    print(\"False\")\n",
    "    "
   ]
  },
  {
   "cell_type": "code",
   "execution_count": 32,
   "id": "126433e4",
   "metadata": {},
   "outputs": [
    {
     "name": "stdout",
     "output_type": "stream",
     "text": [
      "Number is divible by 11 only\n"
     ]
    }
   ],
   "source": [
    "a=121\n",
    "\n",
    "if a%5==0 and a%11==0:\n",
    "    print(\"Number is divisibe by 5 and 11\")\n",
    "\n",
    "if a%5==0:\n",
    "    print(\"Number is divible by 5 only\")\n",
    "    \n",
    "if a%11==0:\n",
    "    print(\"Number is divible by 11 only\")\n",
    "    \n",
    "    "
   ]
  },
  {
   "cell_type": "code",
   "execution_count": 34,
   "id": "8ae7f120",
   "metadata": {},
   "outputs": [
    {
     "name": "stdout",
     "output_type": "stream",
     "text": [
      "will not allow to sit in exam\n"
     ]
    }
   ],
   "source": [
    "a=15\n",
    "\n",
    "if a*3.33 <= 75:\n",
    "    print(\"will not allow to sit in exam\")\n",
    "\n",
    "else:\n",
    "    print(\"allow to sit in exam\")"
   ]
  },
  {
   "cell_type": "code",
   "execution_count": 39,
   "id": "507b6728",
   "metadata": {},
   "outputs": [
    {
     "name": "stdout",
     "output_type": "stream",
     "text": [
      "70000.0\n"
     ]
    }
   ],
   "source": [
    "cost =200000\n",
    "\n",
    "if cost > 100000:\n",
    "    payment =cost *0.15 + cost*0.2\n",
    "    print(payment)\n",
    "    \n",
    "if cost > 50000 and cost<=100000:\n",
    "    payment = cost*0.1 + cost*0.08\n",
    "    print(payment)\n",
    "    \n",
    "if cost <= 50000:\n",
    "    payment =cost*0.05 +cost*0.05\n",
    "    print(payment)"
   ]
  },
  {
   "cell_type": "code",
   "execution_count": null,
   "id": "d9af0b7f",
   "metadata": {},
   "outputs": [],
   "source": []
  }
 ],
 "metadata": {
  "kernelspec": {
   "display_name": "Python 3 (ipykernel)",
   "language": "python",
   "name": "python3"
  },
  "language_info": {
   "codemirror_mode": {
    "name": "ipython",
    "version": 3
   },
   "file_extension": ".py",
   "mimetype": "text/x-python",
   "name": "python",
   "nbconvert_exporter": "python",
   "pygments_lexer": "ipython3",
   "version": "3.11.4"
  }
 },
 "nbformat": 4,
 "nbformat_minor": 5
}
