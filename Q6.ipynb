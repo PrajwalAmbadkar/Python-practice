{
 "cells": [
  {
   "cell_type": "code",
   "execution_count": 7,
   "id": "4e16b708",
   "metadata": {},
   "outputs": [
    {
     "name": "stdout",
     "output_type": "stream",
     "text": [
      "abc \n",
      " bcd\n",
      "abc\n",
      "bcd\n",
      "1 \n",
      " 2\n",
      "hello \n",
      "\n",
      "!!\n",
      "This is '\t' means tab\n"
     ]
    }
   ],
   "source": [
    "print(\"abc\",\"\\n\",\"bcd\")\n",
    "print(\"abc\\nbcd\")\n",
    "print(1,'\\n',2)\n",
    "print(\"hello \\n\\n!!\")\n",
    "print(\"This is '\\t' means tab\")\n",
    "\n",
    "#five spaces are printed using tab"
   ]
  },
  {
   "cell_type": "code",
   "execution_count": 8,
   "id": "3d267a45",
   "metadata": {},
   "outputs": [
    {
     "name": "stdout",
     "output_type": "stream",
     "text": [
      "This\tis\tdifferent\n",
      "This#is#different\n",
      "This\n",
      "is\n",
      "different\n",
      "This is different\n"
     ]
    }
   ],
   "source": [
    "print(\"This\",\"is\",\"different\",sep='\\t')\n",
    "print(\"This\",\"is\",\"different\",sep='#')\n",
    "print(\"This\",\"is\",\"different\",sep='\\n') \n",
    "print(\"This\",\"is\",\"different\",end='\\n')"
   ]
  },
  {
   "cell_type": "code",
   "execution_count": null,
   "id": "4587434f",
   "metadata": {},
   "outputs": [],
   "source": [
    "x =y =10\n",
    "print (x)"
   ]
  },
  {
   "cell_type": "code",
   "execution_count": 11,
   "id": "31bb3ba8",
   "metadata": {},
   "outputs": [
    {
     "ename": "SyntaxError",
     "evalue": "cannot assign to literal (1415883677.py, line 1)",
     "output_type": "error",
     "traceback": [
      "\u001b[1;36m  Cell \u001b[1;32mIn[11], line 1\u001b[1;36m\u001b[0m\n\u001b[1;33m    x1 = 20 = y1\u001b[0m\n\u001b[1;37m         ^\u001b[0m\n\u001b[1;31mSyntaxError\u001b[0m\u001b[1;31m:\u001b[0m cannot assign to literal\n"
     ]
    }
   ],
   "source": [
    "x1 = 20 = y1\n",
    "print(x1)\n",
    "print(y1)"
   ]
  },
  {
   "cell_type": "code",
   "execution_count": null,
   "id": "acbbf226",
   "metadata": {},
   "outputs": [],
   "source": []
  }
 ],
 "metadata": {
  "kernelspec": {
   "display_name": "Python 3 (ipykernel)",
   "language": "python",
   "name": "python3"
  },
  "language_info": {
   "codemirror_mode": {
    "name": "ipython",
    "version": 3
   },
   "file_extension": ".py",
   "mimetype": "text/x-python",
   "name": "python",
   "nbconvert_exporter": "python",
   "pygments_lexer": "ipython3",
   "version": "3.11.4"
  }
 },
 "nbformat": 4,
 "nbformat_minor": 5
}
