{
 "cells": [
  {
   "cell_type": "markdown",
   "id": "dca9088a",
   "metadata": {},
   "source": [
    "1.Accept 10 integers from user  and print their average value on the screen \n"
   ]
  },
  {
   "cell_type": "code",
   "execution_count": 1,
   "id": "940b5a89",
   "metadata": {},
   "outputs": [
    {
     "name": "stdout",
     "output_type": "stream",
     "text": [
      "Enter the number10\n",
      "Enter the number20\n",
      "Enter the number50\n",
      "Enter the number30\n",
      "Enter the number80\n",
      "Enter the number60\n",
      "Enter the number70\n",
      "Enter the number40\n",
      "Enter the number60\n",
      "Enter the number90\n",
      "Enter the number70\n",
      "58.0\n"
     ]
    }
   ],
   "source": [
    "total=0\n",
    "for i in range (11):\n",
    "    a=int(input(\"Enter the number\"))\n",
    "    total= total + a\n",
    "    \n",
    "avg=total/10\n",
    "print(avg)"
   ]
  },
  {
   "cell_type": "markdown",
   "id": "5363ed30",
   "metadata": {},
   "source": [
    "2.\tPrint the following patterns using loop :  \n",
    "* \n",
    "** \n",
    "***\n",
    "****"
   ]
  },
  {
   "cell_type": "code",
   "execution_count": 7,
   "id": "1035ffc9",
   "metadata": {},
   "outputs": [
    {
     "name": "stdout",
     "output_type": "stream",
     "text": [
      "Enter the value5\n",
      "\n",
      "*\n",
      "**\n",
      "***\n",
      "****\n"
     ]
    }
   ],
   "source": [
    "a=int(input(\"Enter the value\"))\n",
    "\n",
    "for i in range (a):\n",
    "    r='*'*i\n",
    "    print(r)"
   ]
  },
  {
   "cell_type": "markdown",
   "id": "87d52865",
   "metadata": {},
   "source": [
    "3. Ask user number of terms to be generated of a series. generate numbers for the following series and find its addition \n",
    "[9 + 99 + 999 + 9999+……..] "
   ]
  },
  {
   "cell_type": "code",
   "execution_count": 19,
   "id": "ebf1c71d",
   "metadata": {},
   "outputs": [
    {
     "name": "stdout",
     "output_type": "stream",
     "text": [
      "Enter the value6\n",
      " + 9 + 99 + 999 + 9999 + 99999 + "
     ]
    }
   ],
   "source": [
    "a =int(input(\"Enter the value\"))\n",
    "\n",
    "for i in range (a):\n",
    "    r='9'*i\n",
    "#    print(r)\n",
    "    print(r, end=\" + \")"
   ]
  },
  {
   "cell_type": "markdown",
   "id": "2400aea6",
   "metadata": {},
   "source": [
    "Write a program in python to display the sum of the series [ 1+x+x^2/2!+x^3/3!+....]. Go to the editor \n",
    "Test Data : \n",
    "Input the value of x :3 Input number of terms : 5 Expected Output : \n",
    "The sum is : 16.375000 "
   ]
  },
  {
   "cell_type": "code",
   "execution_count": 17,
   "id": "f40def37",
   "metadata": {},
   "outputs": [
    {
     "name": "stdout",
     "output_type": "stream",
     "text": [
      "Enter a value for x:2\n",
      "Enter a value for term:3\n",
      "5.0\n"
     ]
    }
   ],
   "source": [
    "import math\n",
    "n=int(input(\"Enter a value for x:\"))\n",
    "term=int(input(\"Enter a value for term:\"))\n",
    "add=0\n",
    "for i in range (term):\n",
    "    su=n**i/math.factorial(i)\n",
    "    add=add+su\n",
    "print(add)\n",
    "    "
   ]
  },
  {
   "cell_type": "markdown",
   "id": "e992448b",
   "metadata": {},
   "source": [
    "Take a number from user and print sum of all odd numbers till that number.\n",
    "Ex. Enter a no : 10   \n",
    "Sum of all odd numbers till 10 : 3+5+7+9  =25"
   ]
  },
  {
   "cell_type": "code",
   "execution_count": 25,
   "id": "a4893e1c",
   "metadata": {},
   "outputs": [
    {
     "name": "stdout",
     "output_type": "stream",
     "text": [
      "Enter the range10\n",
      "3\n",
      "5\n",
      "7\n",
      "9\n",
      "24\n"
     ]
    }
   ],
   "source": [
    "a=int(input(\"Enter the range\"))\n",
    "total=0\n",
    "for i in range (3,a,2):\n",
    "    print(i)\n",
    "    total=total+i\n",
    "\n",
    "print(total)\n",
    "    \n",
    "    "
   ]
  },
  {
   "cell_type": "markdown",
   "id": "0815f5b8",
   "metadata": {},
   "source": [
    "To display the cube of the number upto given an integer. If the given integer is 5, then display cube of 1 to 4"
   ]
  },
  {
   "cell_type": "code",
   "execution_count": 27,
   "id": "dc958ffd",
   "metadata": {},
   "outputs": [
    {
     "name": "stdout",
     "output_type": "stream",
     "text": [
      "Enter the range5\n",
      "cube of i  0\n",
      "cube of i  1\n",
      "cube of i  8\n",
      "cube of i  27\n",
      "cube of i  64\n"
     ]
    }
   ],
   "source": [
    "a=int(input(\"Enter the range\"))\n",
    "\n",
    "for i in range (a):\n",
    "    cube=i*i*i\n",
    "    print(\"cube of i \",cube)\n",
    "    "
   ]
  },
  {
   "cell_type": "markdown",
   "id": "84b10f9e",
   "metadata": {},
   "source": [
    "Accept 20 numbers from user and display sum of only even numbers. \n"
   ]
  },
  {
   "cell_type": "code",
   "execution_count": 1,
   "id": "2e58353d",
   "metadata": {},
   "outputs": [
    {
     "name": "stdout",
     "output_type": "stream",
     "text": [
      "Enter the number2\n",
      "Enter the number4\n",
      "Enter the number5\n",
      "Enter the number6\n",
      "Enter the number9\n",
      "Enter the number7\n",
      "Enter the number3\n",
      "Enter the number10\n",
      "Enter the number12\n",
      "Enter the number18\n",
      "Enter the number6\n",
      "Enter the number20\n",
      "Enter the number18\n",
      "Enter the number16\n",
      "Enter the number22\n",
      "Enter the number36\n",
      "Enter the number78\n",
      "Enter the number44\n",
      "Enter the number26\n",
      "Enter the number27\n",
      "Enter the number29\n",
      "318\n"
     ]
    }
   ],
   "source": [
    "total=0\n",
    "for i in range (21):\n",
    "    a=int(input(\"Enter the number\"))\n",
    "#    print(i)\n",
    "    \n",
    "    if a%2==0:\n",
    "        total=total+a\n",
    "\n",
    "print(total)\n",
    "    "
   ]
  },
  {
   "cell_type": "markdown",
   "id": "74042d34",
   "metadata": {},
   "source": [
    "Take integer inputs from user until he/she presses q ( Ask to press q to quit after every integer input ). Print average and product of all numbers."
   ]
  },
  {
   "cell_type": "code",
   "execution_count": 4,
   "id": "de66d734",
   "metadata": {},
   "outputs": [
    {
     "name": "stdout",
     "output_type": "stream",
     "text": [
      "Enter the varibale press q to enda\n",
      "hi\n",
      "Enter the varibale press q to ende\n",
      "hi\n",
      "Enter the varibale press q to endr\n",
      "hi\n",
      "Enter the varibale press q to endw\n",
      "hi\n",
      "Enter the varibale press q to endQ\n",
      "outside\n"
     ]
    }
   ],
   "source": [
    "a=input(\"Enter the varibale press q to end\")\n",
    "\n",
    "while (a!='q') and (a!='Q'):\n",
    "    print(\"hi\")\n",
    "    a=input(\"Enter the varibale press q to end\")\n",
    "\n",
    "print(\"outside\")\n",
    "    "
   ]
  },
  {
   "cell_type": "markdown",
   "id": "049943ae",
   "metadata": {},
   "source": [
    "Write a program in python to find the sum of the series [ x - x^3 + x^5 –x^7+x^9-x^11+ ......]. Go to the editor \n",
    "Test Data : \n",
    "Input the value of x :2 Input number of terms : 5 Expected Output :"
   ]
  },
  {
   "cell_type": "code",
   "execution_count": 24,
   "id": "19d11d33",
   "metadata": {},
   "outputs": [
    {
     "name": "stdout",
     "output_type": "stream",
     "text": [
      "Enter the number2\n",
      "Enter the number10\n",
      "2\n",
      "34\n",
      "546\n"
     ]
    }
   ],
   "source": [
    "a =int(input(\"Enter the number\"))\n",
    "term = int(input(\"Enter the number\"))\n",
    "t1=0\n",
    "t2=0\n",
    "\n",
    "for i in range (1,term,4):\n",
    "    t1=t1+(a**i)\n",
    "    print(t1)\n",
    "    \n",
    "    \n",
    "    \n",
    "#total=(1-a**2)*t1\n",
    "    \n",
    "    \n",
    "#print(total)"
   ]
  },
  {
   "cell_type": "markdown",
   "id": "e08149b7",
   "metadata": {},
   "source": [
    "Given a number count the total number of digits in a number and also find sum of digits of the number."
   ]
  },
  {
   "cell_type": "code",
   "execution_count": 2,
   "id": "bf11c23e",
   "metadata": {},
   "outputs": [
    {
     "name": "stdout",
     "output_type": "stream",
     "text": [
      "Enter the count10\n",
      "Enter the number10\n",
      "Enter the number20\n",
      "Enter the number30\n",
      "Enter the number40\n",
      "Enter the number50\n",
      "Enter the number60\n",
      "Enter the number70\n",
      "Enter the number80\n",
      "Enter the number90\n",
      "Enter the number100\n",
      "550\n"
     ]
    }
   ],
   "source": [
    "term=int(input(\"Enter the count\"))\n",
    "total=0\n",
    "for i in range(term):\n",
    "    a=int(input(\"Enter the number\"))\n",
    "    total =total+a\n",
    "    \n",
    "print(total)"
   ]
  },
  {
   "cell_type": "code",
   "execution_count": null,
   "id": "2b98bebe",
   "metadata": {},
   "outputs": [],
   "source": []
  },
  {
   "cell_type": "code",
   "execution_count": null,
   "id": "00ec6aa2",
   "metadata": {},
   "outputs": [],
   "source": []
  }
 ],
 "metadata": {
  "kernelspec": {
   "display_name": "Python 3 (ipykernel)",
   "language": "python",
   "name": "python3"
  },
  "language_info": {
   "codemirror_mode": {
    "name": "ipython",
    "version": 3
   },
   "file_extension": ".py",
   "mimetype": "text/x-python",
   "name": "python",
   "nbconvert_exporter": "python",
   "pygments_lexer": "ipython3",
   "version": "3.11.4"
  }
 },
 "nbformat": 4,
 "nbformat_minor": 5
}
