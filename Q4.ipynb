{
 "cells": [
  {
   "cell_type": "code",
   "execution_count": 1,
   "id": "628dc05f",
   "metadata": {},
   "outputs": [
    {
     "data": {
      "text/plain": [
       "'3.14286'"
      ]
     },
     "execution_count": 1,
     "metadata": {},
     "output_type": "execute_result"
    }
   ],
   "source": [
    "format (22/7 , '0.5f')"
   ]
  },
  {
   "cell_type": "code",
   "execution_count": 23,
   "id": "24d3d3c4",
   "metadata": {},
   "outputs": [
    {
     "name": "stdout",
     "output_type": "stream",
     "text": [
      "     hello\n"
     ]
    }
   ],
   "source": [
    "print(f'{\"hello\" : >10}')"
   ]
  },
  {
   "cell_type": "code",
   "execution_count": 24,
   "id": "bccada0f",
   "metadata": {},
   "outputs": [
    {
     "name": "stdout",
     "output_type": "stream",
     "text": [
      "hello     \n"
     ]
    }
   ],
   "source": [
    "print(f'{\"hello\" : <10}')"
   ]
  },
  {
   "cell_type": "code",
   "execution_count": 31,
   "id": "8325261b",
   "metadata": {},
   "outputs": [
    {
     "name": "stdout",
     "output_type": "stream",
     "text": [
      "#####hello#####\n"
     ]
    }
   ],
   "source": [
    "print(f'{\"hello\" :#^15}')"
   ]
  },
  {
   "cell_type": "code",
   "execution_count": 32,
   "id": "f8a6e229",
   "metadata": {},
   "outputs": [
    {
     "name": "stdout",
     "output_type": "stream",
     "text": [
      "          \n"
     ]
    }
   ],
   "source": [
    "print(f'{\" \" :^10}')"
   ]
  },
  {
   "cell_type": "code",
   "execution_count": null,
   "id": "a5fd1588",
   "metadata": {},
   "outputs": [],
   "source": []
  }
 ],
 "metadata": {
  "kernelspec": {
   "display_name": "Python 3 (ipykernel)",
   "language": "python",
   "name": "python3"
  },
  "language_info": {
   "codemirror_mode": {
    "name": "ipython",
    "version": 3
   },
   "file_extension": ".py",
   "mimetype": "text/x-python",
   "name": "python",
   "nbconvert_exporter": "python",
   "pygments_lexer": "ipython3",
   "version": "3.11.4"
  }
 },
 "nbformat": 4,
 "nbformat_minor": 5
}
